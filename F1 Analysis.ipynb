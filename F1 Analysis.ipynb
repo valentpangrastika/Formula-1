{
 "cells": [
  {
   "cell_type": "code",
   "execution_count": null,
   "id": "13db51cf",
   "metadata": {},
   "outputs": [],
   "source": [
    "import pandas as pd\n",
    "import matplotlib.pyplot as plt\n",
    "import seaborn as sns\n",
    "df=pd.read_csv(\"/Users/valent/Documents/Python/F1_scrape.csv\")\n",
    "austrian_sprint=pd.read_csv(\"/Users/valent/Documents/Python/sprint_scrape1.csv\")\n",
    "emilia_romagna_sprint=pd.read_csv(\"/Users/valent/Documents/Python/sprint_scrape2.csv\")\n",
    "sao_paulo_sprint=pd.read_csv(\"/Users/valent/Documents/Python/sprint_scrape3.csv\")"
   ]
  },
  {
   "cell_type": "code",
   "execution_count": null,
   "id": "021a50b8",
   "metadata": {},
   "outputs": [],
   "source": [
    "#Drop columns\n",
    "df=df.drop(columns=['No','Year','Car','Engine'])"
   ]
  },
  {
   "cell_type": "code",
   "execution_count": null,
   "id": "dc8a554c",
   "metadata": {},
   "outputs": [],
   "source": [
    "#Sprint Set Up\n",
    "austrian_sprint['event'] = 'Austrian GP'\n",
    "emilia_romagna_sprint['event'] = 'Emilia Romagna GP'\n",
    "sao_paulo_sprint['event'] = 'São Paulo GP'\n",
    "\n",
    "columns=austrian_sprint.columns\n",
    "for column in columns:\n",
    "    new_column= column.lower()\n",
    "    austrian_sprint.rename(columns={column: new_column}, inplace=True)\n",
    "    emilia_romagna_sprint.rename(columns={column: new_column}, inplace=True)\n",
    "    sao_paulo_sprint.rename(columns={column: new_column}, inplace=True)\n",
    "\n",
    "sprint_pos = [1, 2, 3, 4, 5, 6, 7, 8]\n",
    "sprint_point = sorted(list(range(1, 9)), reverse=True)\n",
    "sprint = dict(zip(sprint_pos, sprint_point))\n",
    "\n",
    "emilia_romagna_sprint['sprint_point'] = 0  # Initialize all values to 0\n",
    "for index, row in emilia_romagna_sprint.iterrows():\n",
    "    pos = row['pos']\n",
    "    if pos == 'ret':\n",
    "        emilia_romagna_sprint.at[index, \"sprint_point\"] = 0\n",
    "    elif pos.isdigit():\n",
    "        pos = int(pos)\n",
    "        if pos in sprint.keys():\n",
    "            emilia_romagna_sprint.at[index, \"sprint_point\"] = sprint[pos]\n",
    "\n",
    "sao_paulo_sprint['sprint_point'] = 0  # Initialize all values to 0\n",
    "for index, row in sao_paulo_sprint.iterrows():\n",
    "    pos = row['pos']\n",
    "    if pos == 'ret':\n",
    "        sao_paulo_sprint.at[index, \"sprint_point\"] = 0\n",
    "    elif pos.isdigit():\n",
    "        pos = int(pos)\n",
    "        if pos in sprint.keys():\n",
    "            sao_paulo_sprint.at[index, \"sprint_point\"] = sprint[pos]\n",
    "\n",
    "austrian_sprint['sprint_point'] = 0  # Initialize all values to 0\n",
    "for index, row in austrian_sprint.iterrows():\n",
    "    pos = row['pos']\n",
    "    if pos == 'ret':\n",
    "        austrian_sprint.at[index, \"sprint_point\"] = 0\n",
    "    elif pos.isdigit():\n",
    "        pos = int(pos)\n",
    "        if pos in sprint.keys():\n",
    "            austrian_sprint.at[index, \"sprint_point\"] = sprint[pos]    "
   ]
  },
  {
   "cell_type": "code",
   "execution_count": null,
   "id": "94ae09dd",
   "metadata": {},
   "outputs": [],
   "source": [
    "#Column Set Up\n",
    "columns=df.columns.tolist()\n",
    "df.rename(columns={'Car No': 'car_no', \n",
    "                   'Qual pos': 'qual_pos', \n",
    "                   'Race pos': 'race_pos',\n",
    "                   'Race time': 'race_time',\n",
    "                   'Drivers\\' champ pts': 'driver_point', \n",
    "                   'Constructors\\' champ pts': 'constructors_point'}, inplace=True)\n",
    "for column in columns:\n",
    "    new_column= column.lower()\n",
    "    df.rename(columns={column: new_column}, inplace=True)\n",
    "    \n",
    "df.columns"
   ]
  },
  {
   "cell_type": "code",
   "execution_count": null,
   "id": "88006d4b",
   "metadata": {},
   "outputs": [],
   "source": [
    "#Typo Set Up\n",
    "df.loc[(df['team'] == 'Toro Rosso'), 'team'] = 'Alpha Tauri'\n",
    "df.loc[(df['team'] == '-'), 'team'] = 'Alpine'\n",
    "df.loc[(df['team'] == 'Mercedes-Benz'), 'team'] = 'Mercedes AMG'"
   ]
  },
  {
   "cell_type": "code",
   "execution_count": null,
   "id": "d592972c",
   "metadata": {},
   "outputs": [],
   "source": [
    "#Albon got disqualified in Aus GP but got into the race again\n",
    "df[(df[\"qual_pos\"] == '-') & (df['driver'] == 'Alexander Albon')]\n",
    "df.loc[(df[\"qual_pos\"] == '-') & (df['driver'] == 'Alexander Albon') & (df['event'] == 'Australian GP'), 'qual_pos'] = '20'"
   ]
  },
  {
   "cell_type": "code",
   "execution_count": null,
   "id": "fac6d525",
   "metadata": {},
   "outputs": [],
   "source": [
    "#Drivers Set Up\n",
    "drivers=df.driver.unique().tolist()\n",
    "main_drivers=['Max Verstappen', 'Daniel Ricciardo', 'Lando Norris', 'Nicholas Latifi', 'Pierre Gasly', 'Sergio Pérez',\\\n",
    "              'Fernando Alonso', 'Charles Leclerc', 'Lance Stroll', 'Kevin Magnussen', 'Yuki Tsunoda', 'Alexander Albon'\\\n",
    "              , 'Guanyu Zhou', 'Nico Hülkenberg', 'Esteban Ocon', 'Lewis Hamilton', 'Mick Schumacher', 'Carlos Sainz', \\\n",
    "              'George Russell', 'Valtteri Bottas', 'Sebastian Vettel','Nyck de Vries']\n",
    "df= df[df['driver'].isin(main_drivers)]"
   ]
  },
  {
   "cell_type": "code",
   "execution_count": null,
   "id": "bb21d376",
   "metadata": {},
   "outputs": [],
   "source": [
    "# Except Albon in Australian GP, all driver with '-' qualifying position did not participate even once.\n",
    "df=df[df.qual_pos!='-']"
   ]
  },
  {
   "cell_type": "code",
   "execution_count": null,
   "id": "d8f51b09",
   "metadata": {},
   "outputs": [],
   "source": [
    "#Sprint Merge\n",
    "df = df.merge(austrian_sprint[['event', 'driver','pos', 'sprint_point']], \n",
    "                     on=['event', 'driver'],  \n",
    "                     how='left')\n",
    "df = df.merge(emilia_romagna_sprint[['event', 'driver','pos', 'sprint_point']], \n",
    "                     on=['event', 'driver'],  \n",
    "                     how='left')\n",
    "df = df.merge(sao_paulo_sprint[['event', 'driver','pos', 'sprint_point']], \n",
    "                     on=['event', 'driver'],  \n",
    "                     how='left')"
   ]
  },
  {
   "cell_type": "code",
   "execution_count": null,
   "id": "3b573f80",
   "metadata": {},
   "outputs": [],
   "source": [
    "# Clean up race_pos column\n",
    "for index, row in df.iterrows():\n",
    "    race_pos = row['race_pos']\n",
    "    \n",
    "    if 'ret' in race_pos:\n",
    "        df.at[index, 'race_pos'] = 'DNF'\n",
    "    elif 'dns' in race_pos:\n",
    "        df.at[index, 'race_pos'] = 'DNS'\n",
    "    else:\n",
    "        df.at[index, 'race_pos'] = 'P{}'.format(row['race_pos'])"
   ]
  },
  {
   "cell_type": "code",
   "execution_count": null,
   "id": "7af2c51e",
   "metadata": {},
   "outputs": [],
   "source": [
    "# Update sprint_pos column\n",
    "df[\"sprint_pos\"] = df['pos_x'].fillna(df['pos_y']).fillna(df['pos'])\n",
    "\n",
    "# Update sprint_point column\n",
    "df[\"sprint_points\"] = df['sprint_point_x'].fillna(df['sprint_point_y']).fillna(df['sprint_point'])\n",
    "\n",
    "# Drop intermediate columns (if needed)\n",
    "df.drop(['pos_x', 'pos_y', 'pos', 'sprint_point_x', 'sprint_point_y','sprint_point'], axis=1, inplace=True)\n"
   ]
  },
  {
   "cell_type": "code",
   "execution_count": null,
   "id": "c3cd21be",
   "metadata": {},
   "outputs": [],
   "source": [
    "#Not all main drivers participate in all of the grand prix\n",
    "count_pivot = df.pivot(index=['driver', 'team', 'car_no'], columns='event', values='race_pos')\n",
    "count_pivot = count_pivot.fillna(\"DP\")\n",
    "\n",
    "# Reset the index to have 'driver', 'team', and 'car_no' as columns\n",
    "count_pivot = count_pivot.reset_index()\n",
    "\n",
    "# Melt the DataFrame to switch columns into rows\n",
    "melted_df = pd.melt(count_pivot, id_vars=['driver', 'team', 'car_no'], var_name='event', value_name='race_pos')\n",
    "\n",
    "df = df.merge(melted_df,how='outer') \n",
    "\n",
    "df[['qual_pos', 'race_pos', 'sprint_pos']] = df[['qual_pos', 'race_pos', 'sprint_pos']].fillna(\"DP\")\n",
    "df[['sprint_points', 'sprint_pos', 'driver_point', 'constructors_point',\n",
    "   'race_time']]=df[['sprint_points', 'sprint_pos', 'driver_point', 'constructors_point','race_time']].fillna(\"0\")\n",
    "df[df['driver_point'].isnull()]\n",
    "df.info()"
   ]
  },
  {
   "cell_type": "code",
   "execution_count": null,
   "id": "dd4b07c4",
   "metadata": {},
   "outputs": [],
   "source": [
    "# Clean up qual_pos column\n",
    "\n",
    "for index, row in df.iterrows():\n",
    "    qual_pos = str(row['qual_pos'])  # Convert to string\n",
    "    if qual_pos.isdigit():\n",
    "        df.at[index, 'qual_pos'] = 'P{}'.format(qual_pos)\n",
    "    else:\n",
    "        df.at[index, 'qual_pos'] = row['qual_pos']"
   ]
  },
  {
   "cell_type": "code",
   "execution_count": null,
   "id": "6088a519",
   "metadata": {},
   "outputs": [],
   "source": [
    "# GP Position\n",
    "df['GP_position'] = ''\n",
    "for index, row in df.iterrows():\n",
    "    race_pos = row['race_pos']\n",
    "    \n",
    "    if race_pos== 'P1':\n",
    "        df.at[index, 'GP_position'] = 'Win'\n",
    "    elif race_pos== 'P2':\n",
    "        df.at[index, 'GP_position'] = 'Second Place'\n",
    "    elif race_pos== 'P3':\n",
    "        df.at[index, 'GP_position'] = 'Third Place'\n",
    "    elif race_pos in ['P4','P5','P6','P7','P8','P9','P10']:\n",
    "        df.at[index, 'GP_position'] = 'Point Finish' \n",
    "    elif race_pos== 'DNF':\n",
    "        df.at[index, 'GP_position'] = 'DNF'\n",
    "    elif race_pos== 'DNS':\n",
    "        df.at[index, 'GP_position'] = 'DNS' \n",
    "    elif race_pos== 'DP':\n",
    "        df.at[index, 'GP_position'] = 'DP' \n",
    "    else:\n",
    "        df.at[index, 'GP_position'] = 'Out of Point'"
   ]
  },
  {
   "cell_type": "code",
   "execution_count": null,
   "id": "b5aa5a1a",
   "metadata": {},
   "outputs": [],
   "source": [
    "#Pole position\n",
    "df['pole'] = False\n",
    "\n",
    "# Set 'pole' to True where 'qual_pos' is 'P1'\n",
    "df.loc[df['qual_pos'] == 'P1', 'pole'] = True\n",
    "df.info()"
   ]
  },
  {
   "cell_type": "code",
   "execution_count": null,
   "id": "4b811d80",
   "metadata": {},
   "outputs": [],
   "source": [
    "df['driver_point'] = df['driver_point'].str.replace('-', '0')\n",
    "df[\"constructors_point\"] = df[\"constructors_point\"].str.replace('-', '0')\n",
    "df[\"driver_point\"]=df[\"driver_point\"].astype(int)\n",
    "df[\"constructors_point\"]=df[\"constructors_point\"].astype(int)\n",
    "df[\"sprint_points\"]=df[\"sprint_points\"].astype(int)\n",
    "df.info()"
   ]
  },
  {
   "cell_type": "code",
   "execution_count": null,
   "id": "d2e1a74e",
   "metadata": {},
   "outputs": [],
   "source": [
    "df[\"total_point\"] = df[\"sprint_points\"] + df[\"constructors_point\"]\n"
   ]
  },
  {
   "cell_type": "code",
   "execution_count": null,
   "id": "8942b411",
   "metadata": {},
   "outputs": [],
   "source": [
    "#Check driver points\n",
    "# List of unique drivers\n",
    "drivers = df['driver'].unique()\n",
    "\n",
    "# Iterate through each driver\n",
    "for driver in drivers:\n",
    "    # Filter the DataFrame for the current driver\n",
    "    driver_data = df[df['driver'] == driver]\n",
    "    \n",
    "    # Print the desired columns for the driver\n",
    "    print(driver_data[['driver','event', 'race_pos','constructors_point', 'sprint_points', 'total_point']])\n"
   ]
  },
  {
   "cell_type": "code",
   "execution_count": null,
   "id": "ecb9b706",
   "metadata": {},
   "outputs": [],
   "source": [
    "# Group the DataFrame by driver and calculate the sum of total points for each driver\n",
    "driver_totals = df.groupby('driver')['total_point'].sum().reset_index()\n",
    "\n",
    "# Sort the drivers by total points in descending order\n",
    "driver_totals = driver_totals.sort_values(by='total_point', ascending=False)\n",
    "\n",
    "# Create a bar chart\n",
    "plt.figure(figsize=(12, 6))\n",
    "bars = plt.bar(driver_totals['driver'], driver_totals['total_point'])\n",
    "plt.xlabel('Driver')\n",
    "plt.ylabel('Total Points')\n",
    "plt.title('Total Points by Driver')\n",
    "plt.xticks(rotation=90)  # Rotate x-axis labels for better visibility\n",
    "\n",
    "# Add annotations with total points on top of the bars\n",
    "for bar in bars:\n",
    "    height = bar.get_height()\n",
    "    plt.annotate(f'{height:.0f}', \n",
    "                 xy=(bar.get_x() + bar.get_width() / 2, height),\n",
    "                 xytext=(0, 3),  # 3 points vertical offset\n",
    "                 textcoords=\"offset points\",\n",
    "                 ha='center', va='bottom')\n",
    "    \n"
   ]
  },
  {
   "cell_type": "code",
   "execution_count": null,
   "id": "6b6b874d",
   "metadata": {},
   "outputs": [],
   "source": [
    "result = df.groupby([\"race_pos\", \"constructors_point\"]).size().reset_index(name=\"count\")\n",
    "\n",
    "# Sort the result by \"race_pos\"\n",
    "sorted_result = result.sort_values(by=\"constructors_point\", ascending=False)\n",
    "print(sorted_result)"
   ]
  },
  {
   "cell_type": "code",
   "execution_count": null,
   "id": "e407a985",
   "metadata": {},
   "outputs": [],
   "source": [
    "df[\"fastest_lap\"] = False  # Initialize the \"fastest_lap\" column to False\n",
    "\n",
    "point = {\n",
    "    'P1': 25, 'P2': 18, 'P3': 15, 'P4': 12, 'P5': 10, 'P6': 8, 'P7': 6, 'P8': 4, 'P9': 2, 'P10': 1,\n",
    "    'P11': 0, 'P12': 0, 'P13': 0, 'P14': 0, 'P15': 0, 'P16': 0, 'P17': 0, 'P18': 0, 'P19': 0, 'P20': 0,\n",
    "    'DNS': 0, 'DNF': 0,'DP':0\n",
    "}\n",
    "\n",
    "for index, row in df.iterrows():\n",
    "    race_pos = row[\"race_pos\"]\n",
    "    constructors_point = row[\"constructors_point\"]\n",
    "\n",
    "    if race_pos in point.keys() and constructors_point != point[race_pos]:\n",
    "        df.at[index, \"fastest_lap\"] = True\n",
    "    else:\n",
    "        df.at[index, \"fastest_lap\"] = False\n"
   ]
  },
  {
   "cell_type": "code",
   "execution_count": null,
   "id": "1da0c498",
   "metadata": {},
   "outputs": [],
   "source": [
    "df['index']=range(len(df))\n",
    "df.to_csv(r'/Users/valent/Documents/Python/F1_Clean.csv',index= False)\n",
    "df.head()"
   ]
  }
 ],
 "metadata": {
  "kernelspec": {
   "display_name": "Python 3 (ipykernel)",
   "language": "python",
   "name": "python3"
  },
  "language_info": {
   "codemirror_mode": {
    "name": "ipython",
    "version": 3
   },
   "file_extension": ".py",
   "mimetype": "text/x-python",
   "name": "python",
   "nbconvert_exporter": "python",
   "pygments_lexer": "ipython3",
   "version": "3.11.4"
  }
 },
 "nbformat": 4,
 "nbformat_minor": 5
}
